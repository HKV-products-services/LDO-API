{
 "cells": [
  {
   "cell_type": "markdown",
   "metadata": {},
   "source": [
    "gemaakt voor LIWO door [David Haasnoot](d.haasnoot@hkv.nl)"
   ]
  },
  {
   "cell_type": "code",
   "execution_count": null,
   "metadata": {},
   "outputs": [],
   "source": [
    "import dotenv\n",
    "from pathlib import Path"
   ]
  },
  {
   "cell_type": "code",
   "execution_count": null,
   "metadata": {},
   "outputs": [],
   "source": [
    "from update_local_bulk_LDO import haal_scenarios_op, haal_token_op"
   ]
  },
  {
   "cell_type": "markdown",
   "metadata": {},
   "source": [
    "Zie `readme.md` voor uitgebreid stappen plan voor het aanmaken van een api key.\n",
    "\n",
    "In het kort\n",
    "- Login & ga naar https://www.overstromingsinformatie.nl/auth/\n",
    "- Onder `V1`, `POST auth/v1/personalapikeys`, klik op `try it out` en vervang body met:\n",
    "```json\n",
    "{\n",
    "  \"scope\": \"*:readwrite\",\n",
    "  \"name\": \"personalAPIkeyLIWOexport...\",\n",
    "  \"expiry_date\": \"2029-12-31T23:59:59.037Z\",\n",
    "  \"revoked\": false\n",
    "}\n",
    "```\n",
    "- Pas de datum en name aan waar nodig, klik op `Excecute` in het blauw. In de response body staat: \n",
    "```json\n",
    "{\n",
    "...\n",
    "  \"key\": \"xxxxxx.yyyyyyyyyyyyyyy\",\n",
    "...\n",
    "}\n",
    "```\n",
    "- Bewaar die hele `'key'` in een bestand die `.env` heet, zie `example.env` voor het formaat."
   ]
  },
  {
   "cell_type": "code",
   "execution_count": null,
   "metadata": {},
   "outputs": [],
   "source": [
    "# haal de API key op uit de .env file\n",
    "if dotenv.load_dotenv():\n",
    "    environmental_variables = dotenv.dotenv_values()\n",
    "    LDO_api_key = environmental_variables[\"LDO_api_key\"]\\\n",
    "# Of zet hier de API key handmatig in\n",
    "# LDO_api_key = \"abcd\"\n",
    "headers = haal_token_op(LDO_api_key)"
   ]
  },
  {
   "cell_type": "code",
   "execution_count": null,
   "metadata": {},
   "outputs": [],
   "source": [
    "maximum = 10_000\n",
    "beschikbare_scenario_ids = haal_scenarios_op(maximum, headers)"
   ]
  },
  {
   "cell_type": "code",
   "execution_count": null,
   "metadata": {},
   "outputs": [],
   "source": [
    "len(beschikbare_scenario_ids)"
   ]
  },
  {
   "cell_type": "code",
   "execution_count": null,
   "metadata": {},
   "outputs": [],
   "source": [
    "from update_local_bulk_LDO import vergelijke_nieuwe_en_huidige, export_uit_LDO, voeg_zips_samen_verwijder_ouder"
   ]
  },
  {
   "cell_type": "markdown",
   "metadata": {},
   "source": [
    "Zet paden goed"
   ]
  },
  {
   "cell_type": "code",
   "execution_count": null,
   "metadata": {},
   "outputs": [],
   "source": [
    "current_dir = Path.cwd()\n",
    "current_archive = current_dir / \"merged_nov_2024.zip\"\n",
    "new_archive = current_dir / \"merged_feb_2025_2.zip\""
   ]
  },
  {
   "cell_type": "markdown",
   "metadata": {},
   "source": [
    "Vergelijkt een huidige export en voegt alleen nieuwe toe"
   ]
  },
  {
   "cell_type": "code",
   "execution_count": null,
   "metadata": {},
   "outputs": [],
   "source": [
    "verwijderde_scenarios, nieuwe_scenarios, df_current_local_LDO = (\n",
    "    vergelijke_nieuwe_en_huidige(current_archive, beschikbare_scenario_ids)\n",
    ")"
   ]
  },
  {
   "cell_type": "markdown",
   "metadata": {},
   "source": [
    "Exporteert de gewenste bestanden"
   ]
  },
  {
   "cell_type": "code",
   "execution_count": null,
   "metadata": {},
   "outputs": [],
   "source": [
    "lst_zips_nieuwe_export = export_uit_LDO(\n",
    "                                        nieuwe_scenarios=nieuwe_scenarios,\n",
    "                                        headers=headers,\n",
    ")"
   ]
  },
  {
   "cell_type": "markdown",
   "metadata": {},
   "source": [
    "Combineert de bestanden in de zip"
   ]
  },
  {
   "cell_type": "code",
   "execution_count": null,
   "metadata": {},
   "outputs": [],
   "source": [
    "voeg_zips_samen_verwijder_ouder(\n",
    "                                lst_zips_nieuwe_export,\n",
    "                                verwijderde_scenarios,\n",
    "                                df_current_local_LDO,\n",
    "                                current_archive,\n",
    "                                new_archive,\n",
    ")"
   ]
  }
 ],
 "metadata": {
  "kernelspec": {
   "display_name": "web",
   "language": "python",
   "name": "python3"
  },
  "language_info": {
   "codemirror_mode": {
    "name": "ipython",
    "version": 3
   },
   "file_extension": ".py",
   "mimetype": "text/x-python",
   "name": "python",
   "nbconvert_exporter": "python",
   "pygments_lexer": "ipython3",
   "version": "3.12.7"
  }
 },
 "nbformat": 4,
 "nbformat_minor": 2
}
