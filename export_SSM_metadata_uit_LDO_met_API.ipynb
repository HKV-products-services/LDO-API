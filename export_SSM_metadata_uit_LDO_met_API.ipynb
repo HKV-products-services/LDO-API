{
 "cells": [
  {
   "cell_type": "markdown",
   "metadata": {},
   "source": [
    "gemaakt voor LIWO door [David Haasnoot](d.haasnoot@hkv.nl)"
   ]
  },
  {
   "cell_type": "code",
   "execution_count": 1,
   "metadata": {},
   "outputs": [],
   "source": [
    "import pandas as pd\n",
    "import dotenv"
   ]
  },
  {
   "cell_type": "code",
   "execution_count": 2,
   "metadata": {},
   "outputs": [],
   "source": [
    "from update_local_bulk_LDO import haal_scenarios_op, haal_token_op"
   ]
  },
  {
   "cell_type": "markdown",
   "metadata": {},
   "source": [
    "work-around via https://www.overstromingsinformatie.nl/auth/\n",
    "\n",
    "onder end-point: https://www.overstromingsinformatie.nl/auth/v1/token \n",
    "vervang body met \n",
    "\n",
    "```json\n",
    "{\n",
    "    \"tenant\": 1\n",
    "}\n",
    "```\n",
    "\n",
    "Vul die (te lange) refresh token hier onder in, daarmee genereer je de volgende keer weer de access token\n",
    "\n",
    "meer info op https://www.overstromingsinformatie.nl/api/v1/docs\n",
    "\n",
    "Stop de api key in een `.env` bestand, zie `example.env` als voorbeeld"
   ]
  },
  {
   "cell_type": "code",
   "execution_count": 3,
   "metadata": {},
   "outputs": [],
   "source": [
    "# haal de API key op uit de .env file\n",
    "if dotenv.load_dotenv():\n",
    "    environmental_variables = dotenv.dotenv_values()\n",
    "    LDO_api_key = environmental_variables[\"LDO_api_key\"]\\\n",
    "# Of zet hier de API key handmatig in\n",
    "# LDO_api_key = \"abcd\"\n",
    "headers = haal_token_op(LDO_api_key)"
   ]
  },
  {
   "cell_type": "code",
   "execution_count": 4,
   "metadata": {},
   "outputs": [],
   "source": [
    "maximum = 8000\n",
    "beschikbare_scenario_ids = haal_scenarios_op(maximum, headers)"
   ]
  },
  {
   "cell_type": "code",
   "execution_count": 5,
   "metadata": {},
   "outputs": [
    {
     "data": {
      "text/plain": [
       "5886"
      ]
     },
     "execution_count": 5,
     "metadata": {},
     "output_type": "execute_result"
    }
   ],
   "source": [
    "len(beschikbare_scenario_ids)"
   ]
  },
  {
   "cell_type": "code",
   "execution_count": 6,
   "metadata": {},
   "outputs": [],
   "source": [
    "from export_LDO import get_ssm"
   ]
  },
  {
   "cell_type": "code",
   "execution_count": 7,
   "metadata": {},
   "outputs": [],
   "source": [
    "lst_json = [get_ssm(scenario, headers) for scenario in beschikbare_scenario_ids]\n"
   ]
  },
  {
   "cell_type": "code",
   "execution_count": 8,
   "metadata": {},
   "outputs": [],
   "source": [
    "df_metadata = pd.DataFrame(lst_json)\n",
    "df_metadata.set_index('scenario_id', inplace=True)\n",
    "df_metadata.sort_index(inplace=True)"
   ]
  },
  {
   "cell_type": "code",
   "execution_count": 9,
   "metadata": {},
   "outputs": [],
   "source": [
    "all_indexes = df_metadata.index"
   ]
  },
  {
   "cell_type": "code",
   "execution_count": 10,
   "metadata": {},
   "outputs": [],
   "source": [
    "filled_scenarios = df_metadata.dropna(subset=['raster_types'])"
   ]
  },
  {
   "cell_type": "code",
   "execution_count": 11,
   "metadata": {},
   "outputs": [
    {
     "data": {
      "text/plain": [
       "333"
      ]
     },
     "execution_count": 11,
     "metadata": {},
     "output_type": "execute_result"
    }
   ],
   "source": [
    "len(set(all_indexes).difference(filled_scenarios.index))"
   ]
  },
  {
   "cell_type": "code",
   "execution_count": 12,
   "metadata": {},
   "outputs": [],
   "source": [
    "df_metadata.to_excel('metadata_ssm.xlsx')\n",
    "filled_scenarios.to_excel('metadata_ssm_filled.xlsx')"
   ]
  }
 ],
 "metadata": {
  "kernelspec": {
   "display_name": "web",
   "language": "python",
   "name": "python3"
  },
  "language_info": {
   "codemirror_mode": {
    "name": "ipython",
    "version": 3
   },
   "file_extension": ".py",
   "mimetype": "text/x-python",
   "name": "python",
   "nbconvert_exporter": "python",
   "pygments_lexer": "ipython3",
   "version": "3.13.1"
  }
 },
 "nbformat": 4,
 "nbformat_minor": 2
}
