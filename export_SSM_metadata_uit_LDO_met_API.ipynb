{
 "cells": [
  {
   "cell_type": "markdown",
   "metadata": {},
   "source": [
    "gemaakt voor LIWO door [David Haasnoot](d.haasnoot@hkv.nl)"
   ]
  },
  {
   "cell_type": "code",
   "execution_count": null,
   "metadata": {},
   "outputs": [],
   "source": [
    "import pandas as pd\n",
    "import dotenv"
   ]
  },
  {
   "cell_type": "code",
   "execution_count": null,
   "metadata": {},
   "outputs": [],
   "source": [
    "from update_local_bulk_LDO import haal_scenarios_op, haal_token_op"
   ]
  },
  {
   "cell_type": "markdown",
   "metadata": {},
   "source": [
    "Zie `readme.md` voor uitgebreid stappen plan voor het aanmaken van een api key.\n",
    "\n",
    "In het kort\n",
    "- Login & ga naar https://www.overstromingsinformatie.nl/auth/\n",
    "- Onder `V1`, `POST auth/v1/personalapikeys`, klik op `try it out` en vervang body met:\n",
    "```json\n",
    "{\n",
    "  \"scope\": \"*:readwrite\",\n",
    "  \"name\": \"personalAPIkeyLIWOexport...\",\n",
    "  \"expiry_date\": \"2029-12-31T23:59:59.037Z\",\n",
    "  \"revoked\": false\n",
    "}\n",
    "```\n",
    "- Pas de datum en name aan waar nodig, klik op `Excecute` in het blauw. In de response body staat: \n",
    "```json\n",
    "{\n",
    "...\n",
    "  \"key\": \"xxxxxx.yyyyyyyyyyyyyyy\",\n",
    "...\n",
    "}\n",
    "```\n",
    "- Bewaar die hele `'key'` in een bestand die `.env` heet, zie `.env.example` voor het formaat.\n",
    "- Afhankelijk via welke organisatie je toegang hebt, kan het nodig zijn om in de code de `TENANT` variabele aan te passen. Deze kan ook in de `.env` file worden gezet.\n",
    "  - `TENANT = 0` voor beheerders? \n",
    "  - `TENANT = 1` voor LIWO\n",
    "  - `TENANT = 2` voor RWS\n",
    "  ..."
   ]
  },
  {
   "cell_type": "code",
   "execution_count": null,
   "metadata": {},
   "outputs": [],
   "source": [
    "# haal de API key op uit de .env file\n",
    "if dotenv.load_dotenv():\n",
    "    environmental_variables = dotenv.dotenv_values()\n",
    "    LDO_api_key = environmental_variables[\"LDO_api_key\"]\\\n",
    "# Of zet hier de API key handmatig in\n",
    "# LDO_api_key = \"abcd\"\n",
    "TENANT : int  = 1 # 0, 1, 2 ...\n",
    "headers = haal_token_op(LDO_api_key, tenant=TENANT)"
   ]
  },
  {
   "cell_type": "code",
   "execution_count": null,
   "metadata": {},
   "outputs": [],
   "source": [
    "maximum = 10_000\n",
    "beschikbare_scenario_ids = haal_scenarios_op(maximum, headers)"
   ]
  },
  {
   "cell_type": "code",
   "execution_count": null,
   "metadata": {},
   "outputs": [],
   "source": [
    "len(beschikbare_scenario_ids)"
   ]
  },
  {
   "cell_type": "code",
   "execution_count": null,
   "metadata": {},
   "outputs": [],
   "source": [
    "from export_LDO import get_ssm"
   ]
  },
  {
   "cell_type": "code",
   "execution_count": null,
   "metadata": {},
   "outputs": [],
   "source": [
    "lst_json = [get_ssm(scenario, headers) for scenario in beschikbare_scenario_ids]\n"
   ]
  },
  {
   "cell_type": "code",
   "execution_count": null,
   "metadata": {},
   "outputs": [],
   "source": [
    "df_metadata = pd.DataFrame(lst_json)\n",
    "df_metadata.set_index('scenario_id', inplace=True)\n",
    "df_metadata.sort_index(inplace=True)"
   ]
  },
  {
   "cell_type": "code",
   "execution_count": null,
   "metadata": {},
   "outputs": [],
   "source": [
    "all_indexes = df_metadata.index"
   ]
  },
  {
   "cell_type": "code",
   "execution_count": null,
   "metadata": {},
   "outputs": [],
   "source": [
    "filled_scenarios = df_metadata.dropna(subset=['raster_types'])"
   ]
  },
  {
   "cell_type": "code",
   "execution_count": null,
   "metadata": {},
   "outputs": [],
   "source": [
    "len(set(all_indexes).difference(filled_scenarios.index))"
   ]
  },
  {
   "cell_type": "code",
   "execution_count": null,
   "metadata": {},
   "outputs": [],
   "source": [
    "df_metadata.to_excel('metadata_ssm.xlsx')\n",
    "filled_scenarios.to_excel('metadata_ssm_filled.xlsx')"
   ]
  }
 ],
 "metadata": {
  "kernelspec": {
   "display_name": "web",
   "language": "python",
   "name": "python3"
  },
  "language_info": {
   "codemirror_mode": {
    "name": "ipython",
    "version": 3
   },
   "file_extension": ".py",
   "mimetype": "text/x-python",
   "name": "python",
   "nbconvert_exporter": "python",
   "pygments_lexer": "ipython3",
   "version": "3.13.1"
  }
 },
 "nbformat": 4,
 "nbformat_minor": 2
}
