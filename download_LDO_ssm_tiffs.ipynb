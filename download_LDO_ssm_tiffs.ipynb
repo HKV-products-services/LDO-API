{
 "cells": [
  {
   "cell_type": "markdown",
   "metadata": {},
   "source": [
    "gemaakt voor LIWO door [David Haasnoot](d.haasnoot@hkv.nl)"
   ]
  },
  {
   "cell_type": "code",
   "execution_count": 1,
   "metadata": {},
   "outputs": [],
   "source": [
    "import dotenv\n",
    "from pathlib import Path"
   ]
  },
  {
   "cell_type": "code",
   "execution_count": 2,
   "metadata": {},
   "outputs": [],
   "source": [
    "from update_local_bulk_LDO import haal_scenarios_op, haal_token_op\n",
    "from download_LDO_ssm_tiffs import export_tiffs"
   ]
  },
  {
   "cell_type": "markdown",
   "metadata": {},
   "source": [
    "Zie `readme.md` voor uitgebreid stappen plan voor het aanmaken van een api key.\n",
    "\n",
    "In het kort\n",
    "- Login & ga naar https://www.overstromingsinformatie.nl/auth/\n",
    "- Onder `V1`, `POST auth/v1/personalapikeys`, klik op `try it out` en vervang body met:\n",
    "```json\n",
    "{\n",
    "  \"scope\": \"*:readwrite\",\n",
    "  \"name\": \"personalAPIkeyLIWOexport...\",\n",
    "  \"expiry_date\": \"2029-12-31T23:59:59.037Z\",\n",
    "  \"revoked\": false\n",
    "}\n",
    "```\n",
    "- Pas de datum en name aan waar nodig, klik op `Excecute` in het blauw. In de response body staat: \n",
    "```json\n",
    "{\n",
    "...\n",
    "  \"key\": \"xxxxxx.yyyyyyyyyyyyyyy\",\n",
    "...\n",
    "}\n",
    "```\n",
    "- Bewaar die hele `'key'` in een bestand die `.env` heet, zie `example.env` voor het formaat."
   ]
  },
  {
   "cell_type": "code",
   "execution_count": 3,
   "metadata": {},
   "outputs": [],
   "source": [
    "# haal de API key op uit de .env file\n",
    "if dotenv.load_dotenv():\n",
    "    environmental_variables = dotenv.dotenv_values()\n",
    "    LDO_api_key = environmental_variables[\"LDO_api_key\"]\\\n",
    "# Of zet hier de API key handmatig in\n",
    "# LDO_api_key = \"abcd\"\n",
    "headers = haal_token_op(LDO_api_key)"
   ]
  },
  {
   "cell_type": "code",
   "execution_count": 4,
   "metadata": {},
   "outputs": [],
   "source": [
    "work_dir = Path.cwd() "
   ]
  },
  {
   "cell_type": "code",
   "execution_count": 5,
   "metadata": {},
   "outputs": [],
   "source": [
    "maximum = 10_000\n",
    "beschikbare_scenario_ids = haal_scenarios_op(maximum, headers)"
   ]
  },
  {
   "cell_type": "code",
   "execution_count": 6,
   "metadata": {},
   "outputs": [
    {
     "data": {
      "text/plain": [
       "9469"
      ]
     },
     "execution_count": 6,
     "metadata": {},
     "output_type": "execute_result"
    }
   ],
   "source": [
    "len(beschikbare_scenario_ids)"
   ]
  },
  {
   "cell_type": "markdown",
   "metadata": {},
   "source": [
    "Kies voor welke scenarios de tiffs gedownload worden.\n",
    "> De bestanden die nu worden gedownload zijn: \n",
    "> - Mortality.tif\n",
    "> - Total_damage.tif\n",
    "> - Total_victims.tif\n",
    "> - Total_affected.ti\n",
    "> - rise_period.tiff\n",
    "> - max_velocity.tiff\n",
    "> - rate_of_rise.tiff\n",
    "> - arrival_times.tiff"
   ]
  },
  {
   "cell_type": "code",
   "execution_count": 7,
   "metadata": {},
   "outputs": [],
   "source": [
    "nieuwe_scenarios = beschikbare_scenario_ids[-2:]  # de laatste twee scenario's\n"
   ]
  },
  {
   "cell_type": "markdown",
   "metadata": {},
   "source": [
    "Exporteert de gewenste bestanden (kan lang duren)"
   ]
  },
  {
   "cell_type": "code",
   "execution_count": 10,
   "metadata": {},
   "outputs": [
    {
     "name": "stderr",
     "output_type": "stream",
     "text": [
      "100%|██████████| 2/2 [01:49<00:00, 54.66s/it]\n"
     ]
    }
   ],
   "source": [
    "\n",
    "lst_zips_nieuwe_export = export_tiffs(\n",
    "                                        beschikbare_scenario_ids=nieuwe_scenarios,\n",
    "                                        work_dir=work_dir,\n",
    "                                        headers=headers,\n",
    ")"
   ]
  }
 ],
 "metadata": {
  "kernelspec": {
   "display_name": "web",
   "language": "python",
   "name": "python3"
  },
  "language_info": {
   "codemirror_mode": {
    "name": "ipython",
    "version": 3
   },
   "file_extension": ".py",
   "mimetype": "text/x-python",
   "name": "python",
   "nbconvert_exporter": "python",
   "pygments_lexer": "ipython3",
   "version": "3.12.7"
  }
 },
 "nbformat": 4,
 "nbformat_minor": 2
}
