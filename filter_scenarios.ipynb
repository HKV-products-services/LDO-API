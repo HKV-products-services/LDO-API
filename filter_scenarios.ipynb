{
 "cells": [
  {
   "cell_type": "markdown",
   "metadata": {},
   "source": [
    "gemaakt voor LIWO door [David Haasnoot](d.haasnoot@hkv.nl)"
   ]
  },
  {
   "cell_type": "code",
   "execution_count": 1,
   "metadata": {},
   "outputs": [],
   "source": [
    "import dotenv\n",
    "from pathlib import Path"
   ]
  },
  {
   "cell_type": "code",
   "execution_count": 2,
   "metadata": {},
   "outputs": [],
   "source": [
    "from update_local_LDO_custom import haal_token_op, export_uit_LDO_custom, get_layer_names_from_scenario, haal_scenarios_op\n"
   ]
  },
  {
   "cell_type": "markdown",
   "metadata": {},
   "source": [
    "Zie `readme.md` voor uitgebreid stappen plan voor het aanmaken van een api key.\n",
    "\n",
    "In het kort\n",
    "- Login & ga naar https://www.overstromingsinformatie.nl/auth/\n",
    "- Onder `V1`, `POST auth/v1/personalapikeys`, klik op `try it out` en vervang body met:\n",
    "```json\n",
    "{\n",
    "  \"scope\": \"*:readwrite\",\n",
    "  \"name\": \"personalAPIkeyLIWOexport...\",\n",
    "  \"expiry_date\": \"2029-12-31T23:59:59.037Z\",\n",
    "  \"revoked\": false\n",
    "}\n",
    "```\n",
    "- Pas de datum en name aan waar nodig, klik op `Excecute` in het blauw. In de response body staat: \n",
    "```json\n",
    "{\n",
    "...\n",
    "  \"key\": \"xxxxxx.yyyyyyyyyyyyyyy\",\n",
    "...\n",
    "}\n",
    "```\n",
    "- Bewaar die hele `'key'` in een bestand die `.env` heet, zie `example.env` voor het formaat."
   ]
  },
  {
   "cell_type": "code",
   "execution_count": null,
   "metadata": {},
   "outputs": [],
   "source": [
    "# haal de API key op uit de .env file\n",
    "if dotenv.load_dotenv():\n",
    "    environmental_variables = dotenv.dotenv_values()\n",
    "    LDO_api_key = environmental_variables[\"LDO_api_key\"]\n",
    "    TENANT = int(environmental_variables.get(\"TENANT\", 1))\n",
    "\n",
    "# Of zet hier de API key handmatig in\n",
    "# LDO_api_key = \"abcd\"\n",
    "# TENANT : int  = 1 # 0, 1, 2 ...\n",
    "headers = haal_token_op(LDO_api_key, tenant=TENANT)\n",
    "current_dir = Path.cwd()"
   ]
  },
  {
   "cell_type": "code",
   "execution_count": 16,
   "metadata": {},
   "outputs": [],
   "source": [
    "gebiedsnaam = [\n",
    "    \"BRS%20gebied%20Brabantse%20Delta\",\n",
    "    \"BRS%20gebied%20Noord-Brabant%20Oost\",\n",
    "    \"BRS%20gebied%20Overijsselse%20Vecht\",\n",
    "    \"BRS%20gebied%20Rivierenland\",\n",
    "    \"BRS%20gebied%20Vallei%20en%20Veluwe\",\n",
    "    \"BRS%20gebied%20Friesland\",\n",
    "    \"BRS%20gebied%20Groningen%20en%20NO-Drenthe\",\n",
    "    \"BRS%20gebied%20Scheldestromen\",\n",
    "    \"BRS%20gebied%20ARK-NZK\",\n",
    "]\n",
    "naam_filter = \"\"\n",
    "for naam in gebiedsnaam:\n",
    "    naam_filter += f\"&gebiedsnaam={naam}\""
   ]
  },
  {
   "cell_type": "code",
   "execution_count": 18,
   "metadata": {},
   "outputs": [],
   "source": [
    "maximum = 10_000\n",
    "geo_filter = \"&bbox=1.9492904467636265%2C50.770023203519315%2C8.995291621720668%2C52.492957339148916\"\n",
    "extra_filer = geo_filter + naam_filter\n",
    "beschikbare_scenario_ids_geo = haal_scenarios_op(maximum, headers, extra_filter=extra_filer)"
   ]
  },
  {
   "cell_type": "code",
   "execution_count": 19,
   "metadata": {},
   "outputs": [
    {
     "data": {
      "text/plain": [
       "30"
      ]
     },
     "execution_count": 19,
     "metadata": {},
     "output_type": "execute_result"
    }
   ],
   "source": [
    "len(beschikbare_scenario_ids_geo)"
   ]
  },
  {
   "cell_type": "markdown",
   "metadata": {},
   "source": [
    "Conclusie: we nergeren de geo filter"
   ]
  },
  {
   "cell_type": "code",
   "execution_count": 20,
   "metadata": {},
   "outputs": [],
   "source": [
    "maximum = 10_000\n",
    "beschikbare_scenario_ids = haal_scenarios_op(maximum, headers, extra_filter=naam_filter)"
   ]
  },
  {
   "cell_type": "code",
   "execution_count": 23,
   "metadata": {},
   "outputs": [
    {
     "name": "stdout",
     "output_type": "stream",
     "text": [
      "37\n",
      "https://www.overstromingsinformatie.nl/scenarios/114656\n",
      "https://www.overstromingsinformatie.nl/scenarios/114657\n",
      "https://www.overstromingsinformatie.nl/scenarios/111312\n",
      "https://www.overstromingsinformatie.nl/scenarios/111313\n",
      "https://www.overstromingsinformatie.nl/scenarios/113715\n",
      "https://www.overstromingsinformatie.nl/scenarios/113716\n",
      "https://www.overstromingsinformatie.nl/scenarios/113815\n"
     ]
    }
   ],
   "source": [
    "print(len(beschikbare_scenario_ids))\n",
    "for id in set(beschikbare_scenario_ids).difference(set(beschikbare_scenario_ids_geo)):\n",
    "    print(f\"https://www.overstromingsinformatie.nl/scenarios/{id}\")"
   ]
  },
  {
   "cell_type": "markdown",
   "metadata": {},
   "source": [
    "Kies welke scenarios gedownload worden (indien al deel gedownload)"
   ]
  },
  {
   "cell_type": "code",
   "execution_count": 28,
   "metadata": {},
   "outputs": [],
   "source": [
    "partial_download = False\n",
    "if partial_download:     \n",
    "    downloaded_id_files = (current_dir / \"downloaded_tiffs\").glob(\"*\")\n",
    "    downloaded_ids = set([file.name.split(\"_\")[-1] for file in downloaded_id_files])\n",
    "    len(downloaded_ids)\n",
    "    nieuwe_scenarios = set(downloaded_id_files).difference(beschikbare_scenario_ids)# [-2:]  # de laatste twee scenario's\n",
    "    nieuwe_scenarios\n",
    "else:\n",
    "    nieuwe_scenarios = beschikbare_scenario_ids"
   ]
  },
  {
   "cell_type": "code",
   "execution_count": 29,
   "metadata": {},
   "outputs": [
    {
     "data": {
      "text/plain": [
       "37"
      ]
     },
     "execution_count": 29,
     "metadata": {},
     "output_type": "execute_result"
    }
   ],
   "source": [
    "len(nieuwe_scenarios)"
   ]
  },
  {
   "cell_type": "code",
   "execution_count": 30,
   "metadata": {},
   "outputs": [],
   "source": [
    "df_layer_names = get_layer_names_from_scenario(nieuwe_scenarios, headers=headers)"
   ]
  },
  {
   "cell_type": "markdown",
   "metadata": {},
   "source": [
    "Exporteert de gewenste bestanden (kan lang duren)"
   ]
  },
  {
   "cell_type": "code",
   "execution_count": 32,
   "metadata": {},
   "outputs": [
    {
     "name": "stderr",
     "output_type": "stream",
     "text": [
      "0it [00:00, ?it/s]"
     ]
    },
    {
     "name": "stderr",
     "output_type": "stream",
     "text": [
      "37it [1:46:20, 172.43s/it]\n"
     ]
    }
   ],
   "source": [
    "lst_zips_nieuwe_export = export_uit_LDO_custom(\n",
    "                                        df_layer_names=df_layer_names,\n",
    "                                        work_dir=current_dir,\n",
    "                                        headers=headers,\n",
    ")"
   ]
  },
  {
   "cell_type": "code",
   "execution_count": 33,
   "metadata": {},
   "outputs": [],
   "source": [
    "from export_LDO import get_all_metadata\n",
    "export_dir = current_dir / \"downloaded_tiffs\"\n",
    "\n",
    "get_all_metadata(\n",
    "            scenario_ids=df_layer_names.index.tolist(),\n",
    "            fname=export_dir / \"metadata.xlsx\",\n",
    "            headers=headers,\n",
    "        )"
   ]
  },
  {
   "cell_type": "code",
   "execution_count": 35,
   "metadata": {},
   "outputs": [],
   "source": [
    "df_layer_names.to_excel(export_dir / \"layer_names.xlsx\")"
   ]
  },
  {
   "cell_type": "code",
   "execution_count": null,
   "metadata": {},
   "outputs": [],
   "source": []
  }
 ],
 "metadata": {
  "kernelspec": {
   "display_name": "geo",
   "language": "python",
   "name": "python3"
  },
  "language_info": {
   "codemirror_mode": {
    "name": "ipython",
    "version": 3
   },
   "file_extension": ".py",
   "mimetype": "text/x-python",
   "name": "python",
   "nbconvert_exporter": "python",
   "pygments_lexer": "ipython3",
   "version": "3.12.7"
  }
 },
 "nbformat": 4,
 "nbformat_minor": 2
}
