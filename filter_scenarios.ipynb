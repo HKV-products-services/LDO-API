{
 "cells": [
  {
   "cell_type": "markdown",
   "metadata": {},
   "source": [
    "gemaakt voor LIWO door [David Haasnoot](d.haasnoot@hkv.nl)"
   ]
  },
  {
   "cell_type": "code",
   "execution_count": 3,
   "metadata": {},
   "outputs": [],
   "source": [
    "import dotenv\n",
    "from pathlib import Path"
   ]
  },
  {
   "cell_type": "code",
   "execution_count": 4,
   "metadata": {},
   "outputs": [],
   "source": [
    "from update_local_LDO_custom import haal_token_op, export_uit_LDO_custom, get_layer_names_from_scenario\n"
   ]
  },
  {
   "cell_type": "markdown",
   "metadata": {},
   "source": [
    "Zie `readme.md` voor uitgebreid stappen plan voor het aanmaken van een api key.\n",
    "\n",
    "In het kort\n",
    "- Login & ga naar https://www.overstromingsinformatie.nl/auth/\n",
    "- Onder `V1`, `POST auth/v1/personalapikeys`, klik op `try it out` en vervang body met:\n",
    "```json\n",
    "{\n",
    "  \"scope\": \"*:readwrite\",\n",
    "  \"name\": \"personalAPIkeyLIWOexport...\",\n",
    "  \"expiry_date\": \"2029-12-31T23:59:59.037Z\",\n",
    "  \"revoked\": false\n",
    "}\n",
    "```\n",
    "- Pas de datum en name aan waar nodig, klik op `Excecute` in het blauw. In de response body staat: \n",
    "```json\n",
    "{\n",
    "...\n",
    "  \"key\": \"xxxxxx.yyyyyyyyyyyyyyy\",\n",
    "...\n",
    "}\n",
    "```\n",
    "- Bewaar die hele `'key'` in een bestand die `.env` heet, zie `example.env` voor het formaat."
   ]
  },
  {
   "cell_type": "code",
   "execution_count": 5,
   "metadata": {},
   "outputs": [],
   "source": [
    "# haal de API key op uit de .env file\n",
    "if dotenv.load_dotenv():\n",
    "    environmental_variables = dotenv.dotenv_values()\n",
    "    LDO_api_key = environmental_variables[\"LDO_api_key\"]\n",
    "# Of zet hier de API key handmatig in\n",
    "# LDO_api_key = \"abcd\"\n",
    "headers = haal_token_op(LDO_api_key)\n",
    "current_dir = Path.cwd()"
   ]
  },
  {
   "cell_type": "code",
   "execution_count": 6,
   "metadata": {},
   "outputs": [],
   "source": [
    "import warnings\n",
    "import requests\n",
    "\n",
    "server = \"https://www.overstromingsinformatie.nl\"\n",
    "\n",
    "\n",
    "def haal_scenarios_op(maximum: int, headers: dict, extra_filter: str = \"\") -> list:\n",
    "    \"\"\" \"Haal de scenario ids op\"\"\"\n",
    "    limit_per_request = 100\n",
    "    offset = 0\n",
    "    beschikbare_scenario_ids = get_scenario_list(\n",
    "        offset, limit_per_request, maximum, headers, extra_filter=extra_filter\n",
    "    )\n",
    "    return beschikbare_scenario_ids\n",
    "\n",
    "\n",
    "def get_scenario_list(offset, limit_per_request, maximum, headers, extra_filter=\"\"):\n",
    "    mode = \"public\"\n",
    "    scenario_ids = []\n",
    "\n",
    "    for offset in range(0, maximum, limit_per_request):\n",
    "        scenario_ids += get_scenario_subset(\n",
    "            mode, limit_per_request, offset, headers, extra_filter=extra_filter\n",
    "        )\n",
    "\n",
    "    return scenario_ids\n",
    "\n",
    "\n",
    "def get_scenario_subset(mode, limit_per_request, offset, headers, extra_filter=\"\"):\n",
    "    \"\"\"Get list of scenarios status landelijk gebruik (mode=public)\"\"\"\n",
    "    response = requests.get(\n",
    "        f\"{server}/api/v1/scenarios?mode={mode}&limit={limit_per_request}&offset={offset}&order_by=id{extra_filter}\",\n",
    "        headers=headers,\n",
    "    )\n",
    "    if response.status_code == 200:\n",
    "        result = response.json()\n",
    "        scenario_list = list(\n",
    "            (\n",
    "                item.get(\"id\")\n",
    "                for item in result[\"items\"]\n",
    "                if item.get(\"status\") == \"quality_checked\"\n",
    "            )\n",
    "        )\n",
    "    else:\n",
    "        warnings.warn(f\"{response.status_code}:{response.text}\")\n",
    "        scenario_list = []\n",
    "    return scenario_list"
   ]
  },
  {
   "cell_type": "code",
   "execution_count": 7,
   "metadata": {},
   "outputs": [],
   "source": [
    "maximum = 10_000\n",
    "geo_filter = \"&bbox=1.9492904467636265%2C50.770023203519315%2C8.995291621720668%2C52.492957339148916\"\n",
    "extra_filer = geo_filter + \"&gebiedsnaam=BRS%20gebied%20Brabantse%20Delta&gebiedsnaam=BRS%20gebied%20Noord-Brabant%20Oost&gebiedsnaam=BRS%20gebied%20Overijsselse%20Vecht&gebiedsnaam=BRS%20gebied%20Rivierenland&gebiedsnaam=BRS%20gebied%20Vallei%20en%20Veluwe\"\n",
    "beschikbare_scenario_ids_geo = haal_scenarios_op(maximum, headers, extra_filter=extra_filer)"
   ]
  },
  {
   "cell_type": "code",
   "execution_count": 8,
   "metadata": {},
   "outputs": [
    {
     "data": {
      "text/plain": [
       "27"
      ]
     },
     "execution_count": 8,
     "metadata": {},
     "output_type": "execute_result"
    }
   ],
   "source": [
    "len(beschikbare_scenario_ids_geo)"
   ]
  },
  {
   "cell_type": "code",
   "execution_count": 9,
   "metadata": {},
   "outputs": [],
   "source": [
    "maximum = 10_000\n",
    "extra_filer =  \"&gebiedsnaam=BRS%20gebied%20Brabantse%20Delta&gebiedsnaam=BRS%20gebied%20Noord-Brabant%20Oost&gebiedsnaam=BRS%20gebied%20Overijsselse%20Vecht&gebiedsnaam=BRS%20gebied%20Rivierenland&gebiedsnaam=BRS%20gebied%20Vallei%20en%20Veluwe\"\n",
    "beschikbare_scenario_ids = haal_scenarios_op(maximum, headers, extra_filter=extra_filer)"
   ]
  },
  {
   "cell_type": "code",
   "execution_count": 10,
   "metadata": {},
   "outputs": [
    {
     "name": "stdout",
     "output_type": "stream",
     "text": [
      "https://www.overstromingsinformatie.nl/scenarios/111312\n",
      "https://www.overstromingsinformatie.nl/scenarios/111313\n",
      "https://www.overstromingsinformatie.nl/scenarios/113715\n",
      "https://www.overstromingsinformatie.nl/scenarios/113716\n"
     ]
    }
   ],
   "source": [
    "for id in set(beschikbare_scenario_ids).difference(set(beschikbare_scenario_ids_geo)):\n",
    "    print(f\"https://www.overstromingsinformatie.nl/scenarios/{id}\")"
   ]
  },
  {
   "cell_type": "markdown",
   "metadata": {},
   "source": [
    "Kies welke scenarios gedownload worden:"
   ]
  },
  {
   "cell_type": "code",
   "execution_count": 11,
   "metadata": {},
   "outputs": [],
   "source": [
    "nieuwe_scenarios = beschikbare_scenario_ids# [-2:]  # de laatste twee scenario's\n"
   ]
  },
  {
   "cell_type": "code",
   "execution_count": 12,
   "metadata": {},
   "outputs": [],
   "source": [
    "\n",
    "\n",
    "df_layer_names = get_layer_names_from_scenario( nieuwe_scenarios, headers=headers,)"
   ]
  },
  {
   "cell_type": "markdown",
   "metadata": {},
   "source": [
    "Exporteert de gewenste bestanden (kan lang duren)"
   ]
  },
  {
   "cell_type": "code",
   "execution_count": null,
   "metadata": {},
   "outputs": [
    {
     "name": "stderr",
     "output_type": "stream",
     "text": [
      "0it [00:00, ?it/s]"
     ]
    },
    {
     "name": "stderr",
     "output_type": "stream",
     "text": [
      "23it [27:35, 139.66s/it]"
     ]
    }
   ],
   "source": [
    "lst_zips_nieuwe_export = export_uit_LDO_custom(\n",
    "                                        df_layer_names=df_layer_names,\n",
    "                                        work_dir=current_dir,\n",
    "                                        headers=headers,\n",
    ")"
   ]
  },
  {
   "cell_type": "code",
   "execution_count": null,
   "metadata": {},
   "outputs": [],
   "source": []
  }
 ],
 "metadata": {
  "kernelspec": {
   "display_name": "geo",
   "language": "python",
   "name": "python3"
  },
  "language_info": {
   "codemirror_mode": {
    "name": "ipython",
    "version": 3
   },
   "file_extension": ".py",
   "mimetype": "text/x-python",
   "name": "python",
   "nbconvert_exporter": "python",
   "pygments_lexer": "ipython3",
   "version": "3.12.7"
  }
 },
 "nbformat": 4,
 "nbformat_minor": 2
}
